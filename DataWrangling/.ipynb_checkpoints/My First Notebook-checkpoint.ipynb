{
 "cells": [
  {
   "cell_type": "markdown",
   "id": "7d28531a-e638-4c17-ba2d-5066c8d86209",
   "metadata": {},
   "source": [
    "# Header 1"
   ]
  },
  {
   "cell_type": "markdown",
   "id": "40371091-1115-4ee2-8d05-723ca511bda1",
   "metadata": {},
   "source": [
    "## Header 2"
   ]
  },
  {
   "cell_type": "markdown",
   "id": "49d2cec3-5016-48ce-8f3f-9a2255d65432",
   "metadata": {},
   "source": [
    "### Header 3"
   ]
  },
  {
   "cell_type": "markdown",
   "id": "c6292544-1b53-458e-9e2f-f809b71057b4",
   "metadata": {},
   "source": [
    "#### Header 4"
   ]
  },
  {
   "cell_type": "markdown",
   "id": "391a1b6e-2d48-440e-9ea2-f7d10808750a",
   "metadata": {},
   "source": [
    "To create a bulleted or numbered list, simply start a line with * or 1."
   ]
  },
  {
   "cell_type": "markdown",
   "id": "e05e8148-d3c9-4e34-b79c-62c7b5438ea0",
   "metadata": {},
   "source": [
    "A bulleted list:\n",
    "\n",
    "- Item 1\n",
    "- Item 2\n",
    "- Item 3"
   ]
  },
  {
   "cell_type": "markdown",
   "id": "17a73ee8-fed0-408d-aa96-616a8d735922",
   "metadata": {},
   "source": [
    "A numerical list:\n",
    "1. Apple\n",
    "2. Banana\n",
    "3. Pineapple"
   ]
  }
 ],
 "metadata": {
  "kernelspec": {
   "display_name": "Python 3 (ipykernel)",
   "language": "python",
   "name": "python3"
  },
  "language_info": {
   "codemirror_mode": {
    "name": "ipython",
    "version": 3
   },
   "file_extension": ".py",
   "mimetype": "text/x-python",
   "name": "python",
   "nbconvert_exporter": "python",
   "pygments_lexer": "ipython3",
   "version": "3.9.6"
  }
 },
 "nbformat": 4,
 "nbformat_minor": 5
}
