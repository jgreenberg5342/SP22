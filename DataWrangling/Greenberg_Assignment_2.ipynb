{
 "cells": [
  {
   "cell_type": "markdown",
   "metadata": {},
   "source": [
    "# Assignment 2 - branching and loops in Python"
   ]
  },
  {
   "cell_type": "markdown",
   "metadata": {},
   "source": [
    "Exercise 1: Print First 10 natural numbers using while loop"
   ]
  },
  {
   "cell_type": "code",
   "execution_count": 3,
   "metadata": {},
   "outputs": [
    {
     "name": "stdout",
     "output_type": "stream",
     "text": [
      "1\n",
      "2\n",
      "3\n",
      "4\n",
      "5\n",
      "6\n",
      "7\n",
      "8\n",
      "9\n",
      "10\n"
     ]
    }
   ],
   "source": [
    "x = 1\n",
    "while x <= 10:\n",
    "    print(x)\n",
    "    x += 1"
   ]
  },
  {
   "cell_type": "markdown",
   "metadata": {},
   "source": [
    "Exercise 2: Print First 10 natural numbers using for loop"
   ]
  },
  {
   "cell_type": "code",
   "execution_count": 5,
   "metadata": {},
   "outputs": [
    {
     "name": "stdout",
     "output_type": "stream",
     "text": [
      "0\n",
      "1\n",
      "2\n",
      "3\n",
      "4\n",
      "5\n",
      "6\n",
      "7\n",
      "8\n",
      "9\n"
     ]
    }
   ],
   "source": [
    "for x in range(10):\n",
    "    print(x)"
   ]
  },
  {
   "cell_type": "markdown",
   "metadata": {},
   "source": [
    "Exercise 3: Calculate the sum of all numbers from 1 to a given number"
   ]
  },
  {
   "cell_type": "code",
   "execution_count": 6,
   "metadata": {
    "scrolled": true
   },
   "outputs": [
    {
     "name": "stdout",
     "output_type": "stream",
     "text": [
      "3998\n"
     ]
    }
   ],
   "source": [
    "for x in range(2000):\n",
    "    x += x\n",
    "print(x)"
   ]
  },
  {
   "cell_type": "markdown",
   "metadata": {},
   "source": [
    "Exercise 4: Display numbers from a list using loop\n",
    "\n",
    "Write a program to display only those numbers from a list that satisfy the following conditions\n",
    "\n",
    "The number must be divisible by four\n",
    "If the number is greater than 100, then skip it and move to the next number\n",
    "If the number is greater than 500, then stop the loop\n",
    "\n",
    "Given a list <br>\n",
    "`numbers = [12, 28, 150, 180, 145, 525, 50]` <br>\n",
    "Output <br>\n",
    "`12` <br>\n",
    "`28` <br>\n",
    "`180`"
   ]
  },
  {
   "cell_type": "code",
   "execution_count": 12,
   "metadata": {},
   "outputs": [],
   "source": [
    "numbers = [12, 28, 150, 180, 145, 525, 50]"
   ]
  },
  {
   "cell_type": "code",
   "execution_count": 13,
   "metadata": {},
   "outputs": [
    {
     "name": "stdout",
     "output_type": "stream",
     "text": [
      "12\n",
      "28\n",
      "180\n"
     ]
    }
   ],
   "source": [
    "for x in numbers:\n",
    "    if x%4 == 0:\n",
    "        print(x)"
   ]
  },
  {
   "cell_type": "markdown",
   "metadata": {},
   "source": [
    "Exercise 5: Print list in reverse order using a loop\n",
    "\n",
    "Given a list <br>\n",
    "`list5 = [11, 22, 33, 44, 55]`"
   ]
  },
  {
   "cell_type": "code",
   "execution_count": 11,
   "metadata": {},
   "outputs": [],
   "source": [
    "list5 = [11, 22, 33, 44, 55]"
   ]
  },
  {
   "cell_type": "code",
   "execution_count": 16,
   "metadata": {},
   "outputs": [
    {
     "name": "stdout",
     "output_type": "stream",
     "text": [
      "55\n",
      "44\n",
      "33\n",
      "22\n",
      "11\n"
     ]
    }
   ],
   "source": [
    "list5.reverse()\n",
    "for x in list5:\n",
    "    print(x)\n",
    "    "
   ]
  },
  {
   "cell_type": "markdown",
   "metadata": {},
   "source": [
    "Exercise 6: Please write a program that uses either a nested-for loop or a nested-while loop to display the following pattern in row-major sequence:\n",
    "\n",
    "OOOOOOX <br>\n",
    "OOOOOXX <br>\n",
    "OOOOXXX <br>\n",
    "OOOXXXX <br>\n",
    "OOXXXXX <br>\n",
    "OXXXXXX <br>\n",
    "XXXXXXX <br>\n"
   ]
  },
  {
   "cell_type": "code",
   "execution_count": 25,
   "metadata": {},
   "outputs": [
    {
     "name": "stdout",
     "output_type": "stream",
     "text": [
      "OOOOOOX\n",
      "OOOOOXX\n",
      "OOOOXXX\n",
      "OOOXXXX\n",
      "OOXXXXX\n",
      "OXXXXXX\n",
      "XXXXXXX\n"
     ]
    }
   ],
   "source": [
    "n = 7\n",
    "for i in range(n):\n",
    "    for j in range(i+1, n):\n",
    "        print(\"O\",end=\"\")\n",
    "    for i in range(i+1):\n",
    "        print(\"X\",end=\"\")\n",
    "    print()"
   ]
  },
  {
   "cell_type": "markdown",
   "metadata": {},
   "source": [
    "Exercise 7: Write a program to accept a number from a user and convert the numeric score into a letter grade based on the following scale:\n",
    "* A: from 90 to 100\n",
    "* B: from 80 to 89\n",
    "* C: from 70 to 79\n",
    "* F: from 0 to 69"
   ]
  },
  {
   "cell_type": "code",
   "execution_count": 34,
   "metadata": {},
   "outputs": [
    {
     "name": "stdin",
     "output_type": "stream",
     "text": [
      " 80\n"
     ]
    },
    {
     "name": "stdout",
     "output_type": "stream",
     "text": [
      "B\n"
     ]
    }
   ],
   "source": [
    "userInput = int(input())\n",
    "#print(type(userInput))\n",
    "if userInput >= 90:\n",
    "    print(\"A\")\n",
    "elif userInput >= 80 and userInput <= 89:\n",
    "    print(\"B\")\n",
    "elif userInput >= 70 and userInput <= 79:\n",
    "    print(\"C\")\n",
    "else:\n",
    "    print(\"F\")"
   ]
  },
  {
   "cell_type": "markdown",
   "metadata": {},
   "source": [
    "Exercise 8: use a nested-for loop to print the following pattern in\n",
    "row-major sequence:\n",
    "         \n",
    "XXXXX <br>\n",
    "XXXXX <br>\n",
    "XXXXX <br>\n",
    "XXXXX <br>\n",
    "XXXXX <br>"
   ]
  },
  {
   "cell_type": "code",
   "execution_count": 38,
   "metadata": {},
   "outputs": [
    {
     "name": "stdout",
     "output_type": "stream",
     "text": [
      "XXXXX\n",
      "XXXXX\n",
      "XXXXX\n",
      "XXXXX\n",
      "XXXXX\n"
     ]
    }
   ],
   "source": [
    "n = 5\n",
    "for i in range(n):\n",
    "    for j in  range(n): \n",
    "        print(\"X\",end=\"\")\n",
    "    print()"
   ]
  }
 ],
 "metadata": {
  "kernelspec": {
   "display_name": "Python 3 (ipykernel)",
   "language": "python",
   "name": "python3"
  },
  "language_info": {
   "codemirror_mode": {
    "name": "ipython",
    "version": 3
   },
   "file_extension": ".py",
   "mimetype": "text/x-python",
   "name": "python",
   "nbconvert_exporter": "python",
   "pygments_lexer": "ipython3",
   "version": "3.9.6"
  }
 },
 "nbformat": 4,
 "nbformat_minor": 4
}
