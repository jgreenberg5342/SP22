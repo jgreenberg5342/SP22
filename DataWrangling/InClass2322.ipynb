{
 "cells": [
  {
   "cell_type": "code",
   "execution_count": 1,
   "id": "7d9fc00f-a42e-4797-ad5d-dc876a95aa52",
   "metadata": {},
   "outputs": [],
   "source": [
    "name = \"Jake Greenberg\""
   ]
  },
  {
   "cell_type": "code",
   "execution_count": 2,
   "id": "c3c2ac16-c080-408f-b253-b539e6ae3b62",
   "metadata": {},
   "outputs": [],
   "source": [
    "age = 23"
   ]
  },
  {
   "cell_type": "code",
   "execution_count": 4,
   "id": "c77cb794-5cb2-4639-ab65-b4f7dd93a945",
   "metadata": {},
   "outputs": [
    {
     "data": {
      "text/plain": [
       "int"
      ]
     },
     "execution_count": 4,
     "metadata": {},
     "output_type": "execute_result"
    }
   ],
   "source": [
    "type(age)"
   ]
  },
  {
   "cell_type": "code",
   "execution_count": 6,
   "id": "0b87ba57-0592-4704-b695-b46d1855df02",
   "metadata": {},
   "outputs": [],
   "source": [
    "has_android = False"
   ]
  },
  {
   "cell_type": "code",
   "execution_count": 7,
   "id": "513dd678-714d-404c-aa55-30f7fd31ef77",
   "metadata": {},
   "outputs": [],
   "source": [
    "my_name = \"myfile.txt\""
   ]
  },
  {
   "cell_type": "code",
   "execution_count": 12,
   "id": "9f117fb2-cb68-4ac4-b7ec-a857431da54d",
   "metadata": {},
   "outputs": [
    {
     "data": {
      "text/plain": [
       "'m'"
      ]
     },
     "execution_count": 12,
     "metadata": {},
     "output_type": "execute_result"
    }
   ],
   "source": [
    "my_name[0]"
   ]
  },
  {
   "cell_type": "code",
   "execution_count": 14,
   "id": "1ac9da60-1571-47d4-af25-996093ac83b6",
   "metadata": {},
   "outputs": [
    {
     "data": {
      "text/plain": [
       "'my'"
      ]
     },
     "execution_count": 14,
     "metadata": {},
     "output_type": "execute_result"
    }
   ],
   "source": [
    "my_name[0:2]"
   ]
  },
  {
   "cell_type": "code",
   "execution_count": 15,
   "id": "bc3c6a16-e481-4742-b7e9-5b6cbe80dba8",
   "metadata": {},
   "outputs": [
    {
     "data": {
      "text/plain": [
       "10"
      ]
     },
     "execution_count": 15,
     "metadata": {},
     "output_type": "execute_result"
    }
   ],
   "source": [
    "len(my_name)"
   ]
  },
  {
   "cell_type": "code",
   "execution_count": 24,
   "id": "53e25881-a65d-409f-a1b0-bbed5da92b06",
   "metadata": {},
   "outputs": [
    {
     "data": {
      "text/plain": [
       "'txt'"
      ]
     },
     "execution_count": 24,
     "metadata": {},
     "output_type": "execute_result"
    }
   ],
   "source": [
    "my_name[7:10]"
   ]
  },
  {
   "cell_type": "code",
   "execution_count": 28,
   "id": "05e6019d-5319-403a-98d3-10aaf0740abe",
   "metadata": {},
   "outputs": [
    {
     "name": "stdout",
     "output_type": "stream",
     "text": [
      "file\n"
     ]
    }
   ],
   "source": [
    "print(my_name[slice(2, 6)])"
   ]
  },
  {
   "cell_type": "code",
   "execution_count": 29,
   "id": "b5771928-6231-4f7c-b9d6-dcc78ea0f101",
   "metadata": {},
   "outputs": [],
   "source": [
    "cost = 5000\n",
    "ticket = 200\n",
    "people = 29"
   ]
  },
  {
   "cell_type": "code",
   "execution_count": 32,
   "id": "ad1bbfcd-e0a3-47c7-a246-5555019938c7",
   "metadata": {},
   "outputs": [
    {
     "name": "stdout",
     "output_type": "stream",
     "text": [
      "The company makes a profit of 800 dollars.\n"
     ]
    }
   ],
   "source": [
    "profit = ticket * people - cost\n",
    "print(\"The company makes a profit of\", profit, \"dollars.\")"
   ]
  }
 ],
 "metadata": {
  "kernelspec": {
   "display_name": "Python 3 (ipykernel)",
   "language": "python",
   "name": "python3"
  },
  "language_info": {
   "codemirror_mode": {
    "name": "ipython",
    "version": 3
   },
   "file_extension": ".py",
   "mimetype": "text/x-python",
   "name": "python",
   "nbconvert_exporter": "python",
   "pygments_lexer": "ipython3",
   "version": "3.9.6"
  }
 },
 "nbformat": 4,
 "nbformat_minor": 5
}
