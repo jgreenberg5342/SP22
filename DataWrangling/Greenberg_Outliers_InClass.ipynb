{
 "cells": [
  {
   "cell_type": "markdown",
   "metadata": {},
   "source": [
    "### Exercise\n",
    "You are given *UScereal.csv* which contains nutritional and Marketing Information on US Cereals. The data come from the 1993 ASA Statistical Graphics Exposition, and are taken from the mandatory F&DA food label. You need to examine the `fibre` and do following: \\\n",
    "(1) Identify the outliers using Boxplot and Histogram  \\\n",
    "(2) Remove the outliers using 3𝜎 rule first  \\\n",
    "(3) After removing outliers in previous step, you get a new dataframe.  \\\n",
    "(4) On the dataframe, use IQR Score to remove outliers  \\\n",
    "(5) Plot histogram for new dataframe that is generated after step (4). Also plot bell curve on same histogram  "
   ]
  },
  {
   "cell_type": "code",
   "execution_count": 1,
   "metadata": {},
   "outputs": [],
   "source": [
    "import numpy as np\n",
    "import pandas as pd\n",
    "import matplotlib.pyplot as plt\n",
    "import seaborn as sns\n",
    "%matplotlib inline"
   ]
  },
  {
   "cell_type": "code",
   "execution_count": 2,
   "metadata": {},
   "outputs": [],
   "source": [
    "df = pd.read_csv(\"data/UScereal.csv\")"
   ]
  },
  {
   "cell_type": "code",
   "execution_count": 3,
   "metadata": {},
   "outputs": [
    {
     "data": {
      "text/plain": [
       "<AxesSubplot:xlabel='fibre'>"
      ]
     },
     "execution_count": 3,
     "metadata": {},
     "output_type": "execute_result"
    },
    {
     "data": {
      "image/png": "[encoded data removed]",
      "text/plain": [
       "<Figure size 432x288 with 1 Axes>"
      ]
     },
     "metadata": {
      "needs_background": "light"
     },
     "output_type": "display_data"
    }
   ],
   "source": [
    "sns.boxplot(data = df, x='fibre')"
   ]
  },
  {
   "cell_type": "code",
   "execution_count": 4,
   "metadata": {},
   "outputs": [
    {
     "data": {
      "text/plain": [
       "<AxesSubplot:xlabel='fibre', ylabel='Count'>"
      ]
     },
     "execution_count": 4,
     "metadata": {},
     "output_type": "execute_result"
    },
    {
     "data": {
      "image/png": "[encoded data removed]",
      "text/plain": [
       "<Figure size 432x288 with 1 Axes>"
      ]
     },
     "metadata": {
      "needs_background": "light"
     },
     "output_type": "display_data"
    }
   ],
   "source": [
    "sns.histplot(data = df, x='fibre')"
   ]
  },
  {
   "cell_type": "code",
   "execution_count": 5,
   "metadata": {},
   "outputs": [
    {
     "data": {
      "text/plain": [
       "<matplotlib.collections.PathCollection at 0x10e88b35160>"
      ]
     },
     "execution_count": 5,
     "metadata": {},
     "output_type": "execute_result"
    },
    {
     "data": {
      "image/png": "[encoded data removed]",
      "text/plain": [
       "<Figure size 432x288 with 1 Axes>"
      ]
     },
     "metadata": {
      "needs_background": "light"
     },
     "output_type": "display_data"
    }
   ],
   "source": [
    "x = np.arange(len(df))\n",
    "y = df['fibre']\n",
    "plt.plot(x, y.mean()+x*0, '--')\n",
    "plt.plot(x, y.mean()-3*y.std()+x*0, '--',c='r')\n",
    "plt.plot(x, y.mean()+3*y.std()+x*0, '--', c='r')\n",
    "plt.scatter(x, y,s=2)"
   ]
  },
  {
   "cell_type": "code",
   "execution_count": 6,
   "metadata": {},
   "outputs": [
    {
     "data": {
      "text/plain": [
       "18.400211780706478"
      ]
     },
     "execution_count": 6,
     "metadata": {},
     "output_type": "execute_result"
    }
   ],
   "source": [
    "#Set Threshold\n",
    "threshold  = df['fibre'].std()*3\n",
    "threshold"
   ]
  },
  {
   "cell_type": "code",
   "execution_count": 7,
   "metadata": {},
   "outputs": [
    {
     "data": {
      "text/plain": [
       "(62, 11)"
      ]
     },
     "execution_count": 7,
     "metadata": {},
     "output_type": "execute_result"
    }
   ],
   "source": [
    "#Adjust DF\n",
    "outliers_df = df[df['fibre'] < threshold]\n",
    "outliers_df.shape"
   ]
  },
  {
   "cell_type": "code",
   "execution_count": 8,
   "metadata": {},
   "outputs": [
    {
     "name": "stdout",
     "output_type": "stream",
     "text": [
      "10.0 -6.0\n"
     ]
    }
   ],
   "source": [
    "#Now removing outliers from outliers_df using IQR\n",
    "# Calculate the IQR\n",
    "q3 = outliers_df['fibre'].quantile(0.75)\n",
    "q1 = outliers_df['fibre'].quantile(0.25)\n",
    "IQR = q3 - q1\n",
    "# Apply Upper and Lower Bound\n",
    "upper_range = q3 + 1.5*IQR\n",
    "bottom_range = q1 - 1.5*IQR\n",
    "print(upper_range, bottom_range)"
   ]
  },
  {
   "cell_type": "code",
   "execution_count": 9,
   "metadata": {},
   "outputs": [
    {
     "data": {
      "text/html": [
       "<div>\n",
       "<style scoped>\n",
       "    .dataframe tbody tr th:only-of-type {\n",
       "        vertical-align: middle;\n",
       "    }\n",
       "\n",
       "    .dataframe tbody tr th {\n",
       "        vertical-align: top;\n",
       "    }\n",
       "\n",
       "    .dataframe thead th {\n",
       "        text-align: right;\n",
       "    }\n",
       "</style>\n",
       "<table border=\"1\" class=\"dataframe\">\n",
       "  <thead>\n",
       "    <tr style=\"text-align: right;\">\n",
       "      <th></th>\n",
       "      <th>mfr</th>\n",
       "      <th>calories</th>\n",
       "      <th>protein</th>\n",
       "      <th>fat</th>\n",
       "      <th>sodium</th>\n",
       "      <th>fibre</th>\n",
       "      <th>carbo</th>\n",
       "      <th>sugars</th>\n",
       "      <th>shelf</th>\n",
       "      <th>potassium</th>\n",
       "      <th>vitamins</th>\n",
       "    </tr>\n",
       "  </thead>\n",
       "  <tbody>\n",
       "    <tr>\n",
       "      <th>3</th>\n",
       "      <td>G</td>\n",
       "      <td>146.66667</td>\n",
       "      <td>2.666667</td>\n",
       "      <td>2.666667</td>\n",
       "      <td>240.00000</td>\n",
       "      <td>2.000000</td>\n",
       "      <td>14.00000</td>\n",
       "      <td>13.333333</td>\n",
       "      <td>1</td>\n",
       "      <td>93.33333</td>\n",
       "      <td>enriched</td>\n",
       "    </tr>\n",
       "    <tr>\n",
       "      <th>4</th>\n",
       "      <td>K</td>\n",
       "      <td>110.00000</td>\n",
       "      <td>2.000000</td>\n",
       "      <td>0.000000</td>\n",
       "      <td>125.00000</td>\n",
       "      <td>1.000000</td>\n",
       "      <td>11.00000</td>\n",
       "      <td>14.000000</td>\n",
       "      <td>2</td>\n",
       "      <td>30.00000</td>\n",
       "      <td>enriched</td>\n",
       "    </tr>\n",
       "    <tr>\n",
       "      <th>5</th>\n",
       "      <td>G</td>\n",
       "      <td>173.33333</td>\n",
       "      <td>4.000000</td>\n",
       "      <td>2.666667</td>\n",
       "      <td>280.00000</td>\n",
       "      <td>2.666667</td>\n",
       "      <td>24.00000</td>\n",
       "      <td>10.666667</td>\n",
       "      <td>3</td>\n",
       "      <td>133.33333</td>\n",
       "      <td>enriched</td>\n",
       "    </tr>\n",
       "    <tr>\n",
       "      <th>6</th>\n",
       "      <td>R</td>\n",
       "      <td>134.32836</td>\n",
       "      <td>2.985075</td>\n",
       "      <td>1.492537</td>\n",
       "      <td>298.50746</td>\n",
       "      <td>5.970149</td>\n",
       "      <td>22.38806</td>\n",
       "      <td>8.955224</td>\n",
       "      <td>1</td>\n",
       "      <td>186.56716</td>\n",
       "      <td>enriched</td>\n",
       "    </tr>\n",
       "    <tr>\n",
       "      <th>7</th>\n",
       "      <td>P</td>\n",
       "      <td>134.32836</td>\n",
       "      <td>4.477612</td>\n",
       "      <td>0.000000</td>\n",
       "      <td>313.43284</td>\n",
       "      <td>7.462687</td>\n",
       "      <td>19.40299</td>\n",
       "      <td>7.462687</td>\n",
       "      <td>3</td>\n",
       "      <td>283.58209</td>\n",
       "      <td>enriched</td>\n",
       "    </tr>\n",
       "    <tr>\n",
       "      <th>...</th>\n",
       "      <td>...</td>\n",
       "      <td>...</td>\n",
       "      <td>...</td>\n",
       "      <td>...</td>\n",
       "      <td>...</td>\n",
       "      <td>...</td>\n",
       "      <td>...</td>\n",
       "      <td>...</td>\n",
       "      <td>...</td>\n",
       "      <td>...</td>\n",
       "      <td>...</td>\n",
       "    </tr>\n",
       "    <tr>\n",
       "      <th>60</th>\n",
       "      <td>G</td>\n",
       "      <td>146.66667</td>\n",
       "      <td>2.666667</td>\n",
       "      <td>1.333333</td>\n",
       "      <td>333.33333</td>\n",
       "      <td>0.000000</td>\n",
       "      <td>28.00000</td>\n",
       "      <td>4.000000</td>\n",
       "      <td>3</td>\n",
       "      <td>80.00000</td>\n",
       "      <td>enriched</td>\n",
       "    </tr>\n",
       "    <tr>\n",
       "      <th>61</th>\n",
       "      <td>G</td>\n",
       "      <td>110.00000</td>\n",
       "      <td>1.000000</td>\n",
       "      <td>1.000000</td>\n",
       "      <td>140.00000</td>\n",
       "      <td>0.000000</td>\n",
       "      <td>13.00000</td>\n",
       "      <td>12.000000</td>\n",
       "      <td>2</td>\n",
       "      <td>25.00000</td>\n",
       "      <td>enriched</td>\n",
       "    </tr>\n",
       "    <tr>\n",
       "      <th>62</th>\n",
       "      <td>R</td>\n",
       "      <td>149.25373</td>\n",
       "      <td>4.477612</td>\n",
       "      <td>1.492537</td>\n",
       "      <td>343.28358</td>\n",
       "      <td>4.477612</td>\n",
       "      <td>25.37313</td>\n",
       "      <td>4.477612</td>\n",
       "      <td>1</td>\n",
       "      <td>171.64179</td>\n",
       "      <td>enriched</td>\n",
       "    </tr>\n",
       "    <tr>\n",
       "      <th>63</th>\n",
       "      <td>G</td>\n",
       "      <td>100.00000</td>\n",
       "      <td>3.000000</td>\n",
       "      <td>1.000000</td>\n",
       "      <td>200.00000</td>\n",
       "      <td>3.000000</td>\n",
       "      <td>17.00000</td>\n",
       "      <td>3.000000</td>\n",
       "      <td>1</td>\n",
       "      <td>110.00000</td>\n",
       "      <td>enriched</td>\n",
       "    </tr>\n",
       "    <tr>\n",
       "      <th>64</th>\n",
       "      <td>G</td>\n",
       "      <td>146.66667</td>\n",
       "      <td>2.666667</td>\n",
       "      <td>1.333333</td>\n",
       "      <td>266.66667</td>\n",
       "      <td>1.333333</td>\n",
       "      <td>21.33333</td>\n",
       "      <td>10.666667</td>\n",
       "      <td>1</td>\n",
       "      <td>80.00000</td>\n",
       "      <td>enriched</td>\n",
       "    </tr>\n",
       "  </tbody>\n",
       "</table>\n",
       "<p>61 rows × 11 columns</p>\n",
       "</div>"
      ],
      "text/plain": [
       "   mfr   calories   protein       fat     sodium     fibre     carbo  \\\n",
       "3    G  146.66667  2.666667  2.666667  240.00000  2.000000  14.00000   \n",
       "4    K  110.00000  2.000000  0.000000  125.00000  1.000000  11.00000   \n",
       "5    G  173.33333  4.000000  2.666667  280.00000  2.666667  24.00000   \n",
       "6    R  134.32836  2.985075  1.492537  298.50746  5.970149  22.38806   \n",
       "7    P  134.32836  4.477612  0.000000  313.43284  7.462687  19.40299   \n",
       "..  ..        ...       ...       ...        ...       ...       ...   \n",
       "60   G  146.66667  2.666667  1.333333  333.33333  0.000000  28.00000   \n",
       "61   G  110.00000  1.000000  1.000000  140.00000  0.000000  13.00000   \n",
       "62   R  149.25373  4.477612  1.492537  343.28358  4.477612  25.37313   \n",
       "63   G  100.00000  3.000000  1.000000  200.00000  3.000000  17.00000   \n",
       "64   G  146.66667  2.666667  1.333333  266.66667  1.333333  21.33333   \n",
       "\n",
       "       sugars  shelf  potassium  vitamins  \n",
       "3   13.333333      1   93.33333  enriched  \n",
       "4   14.000000      2   30.00000  enriched  \n",
       "5   10.666667      3  133.33333  enriched  \n",
       "6    8.955224      1  186.56716  enriched  \n",
       "7    7.462687      3  283.58209  enriched  \n",
       "..        ...    ...        ...       ...  \n",
       "60   4.000000      3   80.00000  enriched  \n",
       "61  12.000000      2   25.00000  enriched  \n",
       "62   4.477612      1  171.64179  enriched  \n",
       "63   3.000000      1  110.00000  enriched  \n",
       "64  10.666667      1   80.00000  enriched  \n",
       "\n",
       "[61 rows x 11 columns]"
      ]
     },
     "execution_count": 9,
     "metadata": {},
     "output_type": "execute_result"
    }
   ],
   "source": [
    "iqr_outliers_df = outliers_df[outliers_df['fibre'] < upper_range]\n",
    "iqr_outliers_df3 = iqr_outliers_df[iqr_outliers_df['fibre'] > bottom_range]\n",
    "iqr_outliers_df3"
   ]
  },
  {
   "cell_type": "code",
   "execution_count": 10,
   "metadata": {},
   "outputs": [
    {
     "data": {
      "text/plain": [
       "<AxesSubplot:xlabel='fibre', ylabel='Count'>"
      ]
     },
     "execution_count": 10,
     "metadata": {},
     "output_type": "execute_result"
    },
    {
     "data": {
      "image/png": "[encoded data removed]",
      "text/plain": [
       "<Figure size 432x288 with 1 Axes>"
      ]
     },
     "metadata": {
      "needs_background": "light"
     },
     "output_type": "display_data"
    }
   ],
   "source": [
    "sns.histplot(data = iqr_outliers_df3, x='fibre', kde=True)"
   ]
  }
 ],
 "metadata": {
  "kernelspec": {
   "display_name": "Python 3 (ipykernel)",
   "language": "python",
   "name": "python3"
  },
  "language_info": {
   "codemirror_mode": {
    "name": "ipython",
    "version": 3
   },
   "file_extension": ".py",
   "mimetype": "text/x-python",
   "name": "python",
   "nbconvert_exporter": "python",
   "pygments_lexer": "ipython3",
   "version": "3.9.6"
  }
 },
 "nbformat": 4,
 "nbformat_minor": 4
}
